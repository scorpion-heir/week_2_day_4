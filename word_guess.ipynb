{
 "cells": [
  {
   "cell_type": "code",
   "execution_count": null,
   "metadata": {},
   "outputs": [],
   "source": [
    "guesses = []\n",
    "word = \" \"\n",
    "tries = 7\n",
    "while True:\n",
    "  for letter in word:\n",
    "      print(\"_\", end = \" \")\n",
    "  guess = input(f\"\\nYou have {tries} tries left. \")\n",
    "  tries -= 1\n",
    "  if tries == 0:\n",
    "    break\n",
    "  else: \n",
    "    for letter in word:\n",
    "      if letter == guess:\n",
    "        print(letter, end = \" \")\n",
    "        guesses.append(guess)\n",
    "        print(guesses)\n",
    "      else:\n",
    "        print(\"_\", end = \" \")"
   ]
  }
 ],
 "metadata": {
  "kernelspec": {
   "display_name": "Python 3",
   "language": "python",
   "name": "python3"
  },
  "language_info": {
   "codemirror_mode": {
    "name": "ipython",
    "version": 3
   },
   "file_extension": ".py",
   "mimetype": "text/x-python",
   "name": "python",
   "nbconvert_exporter": "python",
   "pygments_lexer": "ipython3",
   "version": "3.8.5"
  }
 },
 "nbformat": 4,
 "nbformat_minor": 4
}
